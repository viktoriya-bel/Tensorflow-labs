{
  "nbformat": 4,
  "nbformat_minor": 0,
  "metadata": {
    "colab": {
      "provenance": [],
      "toc_visible": true,
      "include_colab_link": true
    },
    "kernelspec": {
      "name": "python3",
      "display_name": "Python 3"
    },
    "accelerator": "GPU"
  },
  "cells": [
    {
      "cell_type": "markdown",
      "metadata": {
        "id": "view-in-github",
        "colab_type": "text"
      },
      "source": [
        "<a href=\"https://colab.research.google.com/github/viktoriya-bel/Tensorflow-labs/blob/main/Exercise_5_Question.ipynb\" target=\"_parent\"><img src=\"https://colab.research.google.com/assets/colab-badge.svg\" alt=\"Open In Colab\"/></a>"
      ]
    },
    {
      "cell_type": "markdown",
      "metadata": {
        "id": "GFYcyMy_y5Mw"
      },
      "source": [
        "#Обучение  CNN на полном наборе данных Cats-v-dogs\n",
        "От вас потребуется некоторая предварительная обработка, потому что\n",
        "набор данных не разделен на обучение и проверку."
      ]
    },
    {
      "cell_type": "code",
      "metadata": {
        "id": "dn-6c02VmqiN"
      },
      "source": [
        "# В этом блоке кода находятся все необходимые импорты\n",
        "import os\n",
        "import zipfile\n",
        "import random\n",
        "import tensorflow as tf\n",
        "from tensorflow.keras.optimizers import RMSprop\n",
        "from tensorflow.keras.preprocessing.image import ImageDataGenerator\n",
        "from shutil import copyfile"
      ],
      "execution_count": 38,
      "outputs": []
    },
    {
      "cell_type": "markdown",
      "metadata": {
        "id": "vz_Nu7GI0TWY"
      },
      "source": [
        "Сначала надо получить данные."
      ]
    },
    {
      "cell_type": "code",
      "metadata": {
        "id": "3sd9dQWa23aj",
        "colab": {
          "base_uri": "https://localhost:8080/"
        },
        "outputId": "627adbe5-8cba-4a36-8b84-ee88d3792820"
      },
      "source": [
        "# Этот блок кода загружает полный набор фотографий кошек и собак и сохраняет его как\n",
        "# cats-and-dogs.zip. Затем он распаковывает его в /tmp.\n",
        "# Будет создан каталог tmp/PetImages, содержащий подкаталоги\n",
        "# под названием 'Cat' и 'Dog'.\n",
        "# Если URL не работает,\n",
        "# зайдите на https://www.microsoft.com/en-us/download/confirmation.aspx?id=54765\n",
        "\n",
        "\n",
        "!wget --no-check-certificate \\\n",
        "    \"https://download.microsoft.com/download/3/E/1/3E1C3F21-ECDB-4869-8368-6DEBA77B919F/kagglecatsanddogs_5340.zip\" \\\n",
        "    -O \"/tmp/cats-and-dogs.zip\"\n",
        "\n",
        "local_zip = '/tmp/cats-and-dogs.zip'\n",
        "zip_ref = zipfile.ZipFile(local_zip, 'r')\n",
        "zip_ref.extractall('/tmp')\n",
        "zip_ref.close()\n"
      ],
      "execution_count": 39,
      "outputs": [
        {
          "output_type": "stream",
          "name": "stdout",
          "text": [
            "--2023-05-28 17:35:39--  https://download.microsoft.com/download/3/E/1/3E1C3F21-ECDB-4869-8368-6DEBA77B919F/kagglecatsanddogs_5340.zip\n",
            "Resolving download.microsoft.com (download.microsoft.com)... 23.220.136.207, 2600:1408:c400:1680::317f, 2600:1408:c400:168a::317f\n",
            "Connecting to download.microsoft.com (download.microsoft.com)|23.220.136.207|:443... connected.\n",
            "HTTP request sent, awaiting response... 200 OK\n",
            "Length: 824887076 (787M) [application/octet-stream]\n",
            "Saving to: ‘/tmp/cats-and-dogs.zip’\n",
            "\n",
            "/tmp/cats-and-dogs. 100%[===================>] 786.67M   107MB/s    in 9.6s    \n",
            "\n",
            "2023-05-28 17:35:48 (82.0 MB/s) - ‘/tmp/cats-and-dogs.zip’ saved [824887076/824887076]\n",
            "\n"
          ]
        }
      ]
    },
    {
      "cell_type": "markdown",
      "metadata": {
        "id": "WEKqPrCZ39I0"
      },
      "source": [
        "Проверьте, все ли получилось"
      ]
    },
    {
      "cell_type": "code",
      "metadata": {
        "id": "gi3yD62a6X3S",
        "colab": {
          "base_uri": "https://localhost:8080/"
        },
        "outputId": "e5cb79c4-59ce-4b79-86cf-4a819192ce9b"
      },
      "source": [
        "print(len(os.listdir('/tmp/PetImages/Cat/')))\n",
        "print(len(os.listdir('/tmp/PetImages/Dog/')))\n",
        "\n",
        "# Вывод должен быть примерно такой:\n",
        "# 12501\n",
        "# 12501"
      ],
      "execution_count": 40,
      "outputs": [
        {
          "output_type": "stream",
          "name": "stdout",
          "text": [
            "12501\n",
            "12501\n"
          ]
        }
      ]
    },
    {
      "cell_type": "code",
      "metadata": {
        "id": "F-QkLjxpmyK2"
      },
      "source": [
        "# Используйте функцию os.mkdir чтобы создавать каталоги\n",
        "# Вам понадобится каталог cats-v-dogs и в нем подкаталоги: training и testing. \n",
        "# В каждом из этих подкаталогов надо будет создать два подкаталога: cats и dogs\n",
        "try:\n",
        "  os.mkdir('/tmp/cats-v-dogs')\n",
        "  os.mkdir('/tmp/cats-v-dogs/training')\n",
        "  os.mkdir('/tmp/cats-v-dogs/testing')\n",
        "  os.mkdir('/tmp/cats-v-dogs/training/cats')\n",
        "  os.mkdir('/tmp/cats-v-dogs/training/dogs')\n",
        "  os.mkdir('/tmp/cats-v-dogs/testing/cats')\n",
        "  os.mkdir('/tmp/cats-v-dogs/testing/dogs')\n",
        "except OSError:\n",
        "  print('Error failed to make directory')\n",
        "  pass"
      ],
      "execution_count": 42,
      "outputs": []
    },
    {
      "cell_type": "markdown",
      "metadata": {
        "id": "Ob25bXKD6BR_"
      },
      "source": [
        "###распределение файлов по каталогам в заданной пропорции\n",
        "\n",
        "Напишите на Python свою функцию **split_data**\n",
        "со следующими параметрами:\n",
        "\n",
        "*SOURCE* - каталог, в котором содержатся нужные файлы\n",
        "\n",
        "*TRAINING* - каталог, в который надо скопировать часть файлов из SOURCE\n",
        "\n",
        "*TESTING* - каталог, в который надо скопировать оставшуюся часть файлов из SOURCE\n",
        "\n",
        "*SPLIT_SIZE* - определяет в долях единицы соотношение частей TRAINING и TESTING\n",
        "\n",
        "**split_data** делит имеющиеся файлы на два набора в указанной пропорции.\n",
        "например, если SOURCE - PetImages/Cat, а SPLIT_SIZE - .9, то 90% изображений из PetImages/Cat должны копироваться в каталог TRAINING, а 10% изображений - в каталог TESTING\n",
        "\n",
        "Файлы должны быть выбраны случайно.\n",
        "Кроме того, все изображения должны быть проверены, и файлы с нулевой длиной не должны копироваться"
      ]
    },
    {
      "cell_type": "code",
      "metadata": {
        "id": "zvSODo0f9LaU",
        "colab": {
          "base_uri": "https://localhost:8080/"
        },
        "outputId": "121bc286-a902-424e-a149-d573391aa832"
      },
      "source": [
        "# os.listdir(DIRECTORY) - список содержимого этого каталога\n",
        "# os.path.getsize(fullName)  - размер указанного файла\n",
        "# copyfile(sourceFullName, destinationFullName) копирует данные из source в destination. \n",
        "# random.sample(list, len(list)) возвращает перемешанный список указанной длины\n",
        "\n",
        "\n",
        "# Функция копирования всех файлов из одного каталога в другой\n",
        "# DATASET - массив файлов\n",
        "# SOURCE - исходный каталог\n",
        "# DESTINATION - каталог куда копируются файлы\n",
        "def copy_files(DATASET, SOURCE, DESTINATION):\n",
        "    for filename in DATASET:\n",
        "        temp_dataset = SOURCE + filename\n",
        "        final_dataset = DESTINATION + filename\n",
        "        copyfile(temp_dataset, final_dataset)\n",
        "\n",
        "def split_data(SOURCE, TRAINING, TESTING, SPLIT_SIZE):\n",
        "    dataset = []\n",
        "    # Проверка файла, если длина у файла больше нуля, то добавляем название файла в массив, иначе выводим ошибку\n",
        "    for filename in os.listdir(SOURCE):\n",
        "      data = SOURCE + filename\n",
        "      if(os.path.getsize(data) > 0):\n",
        "        dataset.append(filename)\n",
        "      else:\n",
        "        print(filename + \" имеет нулевую длину, не копируется\")\n",
        "    # Определение длин тренировочного и тестового массива\n",
        "    train_length = int(len(dataset) * SPLIT_SIZE)\n",
        "    test_length = int(len(dataset) - train_length)\n",
        "    # Перемешиваем\n",
        "    random_dataset = random.sample(dataset, len(dataset))\n",
        "    # Создаем новые массивы с данными, указанной длины\n",
        "    train_dataset = random_dataset[0:train_length]\n",
        "    test_dataset = random_dataset[-test_length:]\n",
        "    # Копируем в файлы в нужные каталоги\n",
        "    copy_files(train_dataset, SOURCE, TRAINING)\n",
        "    copy_files(test_dataset, SOURCE, TESTING)\n",
        "\n",
        "\n",
        "\n",
        "CAT_SOURCE_DIR = \"/tmp/PetImages/Cat/\"\n",
        "TRAINING_CATS_DIR = \"/tmp/cats-v-dogs/training/cats/\"\n",
        "TESTING_CATS_DIR = \"/tmp/cats-v-dogs/testing/cats/\"\n",
        "DOG_SOURCE_DIR = \"/tmp/PetImages/Dog/\"\n",
        "TRAINING_DOGS_DIR = \"/tmp/cats-v-dogs/training/dogs/\"\n",
        "TESTING_DOGS_DIR = \"/tmp/cats-v-dogs/testing/dogs/\"\n",
        "\n",
        "split_size = .9\n",
        "split_data(CAT_SOURCE_DIR, TRAINING_CATS_DIR, TESTING_CATS_DIR, split_size)\n",
        "split_data(DOG_SOURCE_DIR, TRAINING_DOGS_DIR, TESTING_DOGS_DIR, split_size)\n",
        "\n",
        "# ожидаемый вывод:\n",
        "# 666.jpg имеет нулевую длину, не копируется\n",
        "# 11702.jpg имеет нулевую длину, не копируется"
      ],
      "execution_count": 49,
      "outputs": [
        {
          "output_type": "stream",
          "name": "stdout",
          "text": [
            "666.jpg имеет нулевую длину, не копируется\n",
            "11702.jpg имеет нулевую длину, не копируется\n"
          ]
        }
      ]
    },
    {
      "cell_type": "markdown",
      "metadata": {
        "id": "GEC918N49KAc"
      },
      "source": [
        "проверьте, все ли идет по плану"
      ]
    },
    {
      "cell_type": "code",
      "metadata": {
        "id": "luthalB76ufC",
        "colab": {
          "base_uri": "https://localhost:8080/"
        },
        "outputId": "f950876d-424e-41ae-d434-f285bac4e4b7"
      },
      "source": [
        "print(len(os.listdir('/tmp/cats-v-dogs/training/cats/')))\n",
        "print(len(os.listdir('/tmp/cats-v-dogs/training/dogs/')))\n",
        "print(len(os.listdir('/tmp/cats-v-dogs/testing/cats/')))\n",
        "print(len(os.listdir('/tmp/cats-v-dogs/testing/dogs/')))\n",
        "\n",
        "# ожидаемый вывод:\n",
        "# 11250\n",
        "# 11250\n",
        "# 1250\n",
        "# 1250"
      ],
      "execution_count": 50,
      "outputs": [
        {
          "output_type": "stream",
          "name": "stdout",
          "text": [
            "11250\n",
            "11250\n",
            "1250\n",
            "1250\n"
          ]
        }
      ]
    },
    {
      "cell_type": "markdown",
      "metadata": {
        "id": "eeNRDPDm9QHx"
      },
      "source": [
        "###Определите модель KERAS для классификации кошек и собак. \n",
        "\n",
        "Используйте как минимум три сверточных слоя"
      ]
    },
    {
      "cell_type": "code",
      "metadata": {
        "id": "-BQrav4anTmj"
      },
      "source": [
        "# USE AT LEAST 3 CONVOLUTION LAYERS\n",
        "model = tf.keras.models.Sequential([\n",
        "  tf.keras.layers.Conv2D(16, (3,3), activation='relu', input_shape=(150, 150, 3)),\n",
        "  tf.keras.layers.MaxPooling2D(2, 2),\n",
        "  tf.keras.layers.Conv2D(32, (3,3), activation='relu'),\n",
        "  tf.keras.layers.MaxPooling2D(2, 2),\n",
        "  tf.keras.layers.Conv2D(64, (3,3), activation='relu'),\n",
        "  tf.keras.layers.MaxPooling2D(2,2),\n",
        "  tf.keras.layers.Flatten(),\n",
        "  tf.keras.layers.Dense(512, activation=tf.nn.relu),\n",
        "  tf.keras.layers.Dense(1, activation=tf.nn.sigmoid)\n",
        "])\n",
        "\n",
        "\n",
        "model.compile(optimizer=RMSprop(learning_rate=0.001), loss='binary_crossentropy', metrics=['acc'])"
      ],
      "execution_count": 51,
      "outputs": []
    },
    {
      "cell_type": "markdown",
      "metadata": {
        "id": "xaZQ2b-r9hbQ"
      },
      "source": [
        "###Добавляем слой предварительной подготовки данных обучения и валидации. \n",
        "\n",
        "Используйте Data Generator, как вы делали это раньше."
      ]
    },
    {
      "cell_type": "code",
      "metadata": {
        "id": "mlNjoJ5D61N6",
        "colab": {
          "base_uri": "https://localhost:8080/"
        },
        "outputId": "c538f656-5fb5-4963-ab5a-698a3f1141de"
      },
      "source": [
        "TRAINING_DIR = \"/tmp/cats-v-dogs/training/\"\n",
        "train_datagen = ImageDataGenerator(rescale=1/255)\n",
        "train_generator = train_datagen.flow_from_directory(\n",
        "    TRAINING_DIR, \n",
        "    target_size=(150,150),\n",
        "    batch_size=100,\n",
        "    class_mode = 'binary')\n",
        "\n",
        "VALIDATION_DIR = \"/tmp/cats-v-dogs/testing/\"\n",
        "validation_datagen = ImageDataGenerator(rescale=1.0/255.)\n",
        "validation_generator = validation_datagen.flow_from_directory(\n",
        "    VALIDATION_DIR,\n",
        "    target_size=(150,150),\n",
        "    batch_size=100,\n",
        "    class_mode = 'binary')\n",
        "\n",
        "\n",
        "\n",
        "# Ожидаемый вывод\n",
        "# Found 22498 images belonging to 2 classes.\n",
        "# Found 2500 images belonging to 2 classes."
      ],
      "execution_count": 52,
      "outputs": [
        {
          "output_type": "stream",
          "name": "stdout",
          "text": [
            "Found 22498 images belonging to 2 classes.\n",
            "Found 2500 images belonging to 2 classes.\n"
          ]
        }
      ]
    },
    {
      "cell_type": "markdown",
      "metadata": {
        "id": "PrUsxp0g98iy"
      },
      "source": [
        "Запускаем обучение модели.\n",
        "\n",
        "*Обратите внимание: при загрузке изображений вы можете получить предупреждения об отсутствии или повреждении данных EXIF. Не беспокойтесь об этом - в изображениях отсутствуют некоторые тэги, это не визуальные данные, которые бы повлияли на тренировку.*"
      ]
    },
    {
      "cell_type": "code",
      "metadata": {
        "id": "KyS4n53w7DxC",
        "colab": {
          "base_uri": "https://localhost:8080/"
        },
        "outputId": "404f65df-548d-41ff-c894-fca2721892ef"
      },
      "source": [
        "history = model.fit_generator(train_generator,\n",
        "                              epochs=15,\n",
        "                              verbose=1,\n",
        "                              validation_data=validation_generator)\n",
        "\n",
        "# Здесь ожидается, что после обучения модели точность будет более 95% как тренировочная, так и при валидации."
      ],
      "execution_count": 54,
      "outputs": [
        {
          "output_type": "stream",
          "name": "stderr",
          "text": [
            "<ipython-input-54-daa7af869649>:1: UserWarning: `Model.fit_generator` is deprecated and will be removed in a future version. Please use `Model.fit`, which supports generators.\n",
            "  history = model.fit_generator(train_generator,\n"
          ]
        },
        {
          "output_type": "stream",
          "name": "stdout",
          "text": [
            "Epoch 1/15\n",
            "225/225 [==============================] - 79s 351ms/step - loss: 0.0271 - acc: 0.9938 - val_loss: 1.0879 - val_acc: 0.7940\n",
            "Epoch 2/15\n",
            "225/225 [==============================] - 78s 347ms/step - loss: 0.0208 - acc: 0.9944 - val_loss: 0.9777 - val_acc: 0.8324\n",
            "Epoch 3/15\n",
            "225/225 [==============================] - 79s 351ms/step - loss: 0.0128 - acc: 0.9964 - val_loss: 0.9829 - val_acc: 0.8340\n",
            "Epoch 4/15\n",
            "225/225 [==============================] - 86s 380ms/step - loss: 0.0079 - acc: 0.9976 - val_loss: 1.2813 - val_acc: 0.8172\n",
            "Epoch 5/15\n",
            "225/225 [==============================] - 79s 349ms/step - loss: 0.0077 - acc: 0.9979 - val_loss: 1.0734 - val_acc: 0.8220\n",
            "Epoch 6/15\n",
            "225/225 [==============================] - 80s 354ms/step - loss: 0.0212 - acc: 0.9949 - val_loss: 1.1583 - val_acc: 0.8332\n",
            "Epoch 7/15\n",
            "225/225 [==============================] - 82s 363ms/step - loss: 0.0084 - acc: 0.9976 - val_loss: 1.3387 - val_acc: 0.8236\n",
            "Epoch 8/15\n",
            "225/225 [==============================] - 79s 352ms/step - loss: 0.0075 - acc: 0.9978 - val_loss: 1.2439 - val_acc: 0.8300\n",
            "Epoch 9/15\n",
            "225/225 [==============================] - 80s 356ms/step - loss: 0.0205 - acc: 0.9952 - val_loss: 1.2292 - val_acc: 0.8244\n",
            "Epoch 10/15\n",
            "225/225 [==============================] - 79s 353ms/step - loss: 0.0030 - acc: 0.9992 - val_loss: 1.3924 - val_acc: 0.8280\n",
            "Epoch 11/15\n",
            "225/225 [==============================] - 79s 351ms/step - loss: 0.0061 - acc: 0.9984 - val_loss: 1.4103 - val_acc: 0.8252\n",
            "Epoch 12/15\n",
            "225/225 [==============================] - 81s 360ms/step - loss: 0.0094 - acc: 0.9976 - val_loss: 1.6998 - val_acc: 0.8160\n",
            "Epoch 13/15\n",
            "225/225 [==============================] - 82s 363ms/step - loss: 0.0062 - acc: 0.9980 - val_loss: 1.5930 - val_acc: 0.8324\n",
            "Epoch 14/15\n",
            "225/225 [==============================] - 80s 355ms/step - loss: 0.0072 - acc: 0.9978 - val_loss: 1.5270 - val_acc: 0.8188\n",
            "Epoch 15/15\n",
            "225/225 [==============================] - 81s 358ms/step - loss: 0.0077 - acc: 0.9981 - val_loss: 1.8580 - val_acc: 0.8248\n"
          ]
        }
      ]
    },
    {
      "cell_type": "markdown",
      "metadata": {
        "id": "HE6EFqSp-ZfG"
      },
      "source": [
        "Смотрим графики процесса тренировки"
      ]
    },
    {
      "cell_type": "code",
      "metadata": {
        "id": "MWZrJN4-65RC",
        "colab": {
          "base_uri": "https://localhost:8080/",
          "height": 904
        },
        "outputId": "f71e5fc9-d300-40c3-a27c-67f75e8373de"
      },
      "source": [
        "\n",
        "%matplotlib inline\n",
        "\n",
        "import matplotlib.image  as mpimg\n",
        "import matplotlib.pyplot as plt\n",
        "\n",
        "#-----------------------------------------------------------\n",
        "# Получить список результатов на тренировочных и тестовых данных\n",
        "# наборов для каждой эпохи обучения\n",
        "#-----------------------------------------------------------\n",
        "acc=history.history['acc']\n",
        "val_acc=history.history['val_acc']\n",
        "loss=history.history['loss']\n",
        "val_loss=history.history['val_loss']\n",
        "\n",
        "epochs=range(len(acc)) # количество эпох\n",
        "\n",
        "#------------------------------------------------\n",
        "# Рисуем точность обучения и проверки по эпохам\n",
        "#------------------------------------------------\n",
        "plt.plot(epochs, acc, 'r', \"Training Accuracy\")\n",
        "plt.plot(epochs, val_acc, 'b', \"Validation Accuracy\")\n",
        "plt.title('Training and validation accuracy')\n",
        "plt.figure()\n",
        "\n",
        "#------------------------------------------------\n",
        "# Рисуем потери обучения и проверки по эпохам\n",
        "#------------------------------------------------\n",
        "plt.plot(epochs, loss, 'r', \"Training Loss\")\n",
        "plt.plot(epochs, val_loss, 'b', \"Validation Loss\")\n",
        "\n",
        "\n",
        "plt.title('Training and validation loss')\n",
        "\n",
        "# Желаемый вывод: графики с показателями обучения и валидации"
      ],
      "execution_count": 55,
      "outputs": [
        {
          "output_type": "execute_result",
          "data": {
            "text/plain": [
              "Text(0.5, 1.0, 'Training and validation loss')"
            ]
          },
          "metadata": {},
          "execution_count": 55
        },
        {
          "output_type": "display_data",
          "data": {
            "text/plain": [
              "<Figure size 640x480 with 1 Axes>"
            ],
            "image/png": "[encoded data removed]"
          },
          "metadata": {}
        },
        {
          "output_type": "display_data",
          "data": {
            "text/plain": [
              "<Figure size 640x480 with 1 Axes>"
            ],
            "image/png": "[encoded data removed]"
          },
          "metadata": {}
        }
      ]
    },
    {
      "cell_type": "markdown",
      "metadata": {
        "id": "0V97i2xk_Nx3"
      },
      "source": [
        "###Запускаем наш классификатор\n",
        "Это просто для удовольствия. Загрузить изображение и классифицировать его без сбоев"
      ]
    },
    {
      "cell_type": "code",
      "metadata": {
        "id": "LqL6FYUrtXpf",
        "colab": {
          "base_uri": "https://localhost:8080/",
          "height": 298
        },
        "outputId": "485d3d32-9ec9-4ac3-f3af-2d59aec0b19f"
      },
      "source": [
        "\n",
        "import numpy as np\n",
        "from google.colab import files\n",
        "import keras.utils as image\n",
        "\n",
        "uploaded = files.upload()\n",
        "\n",
        "for fn in uploaded.keys():\n",
        " \n",
        "  # Предсказание изображений\n",
        "  path = '/content/' + fn\n",
        "  img = image.load_img(path, target_size=(150, 150))\n",
        "  x = image.img_to_array(img)\n",
        "  x = np.expand_dims(x, axis=0)\n",
        "\n",
        "  images = np.vstack([x])\n",
        "  classes = model.predict(images, batch_size=10)\n",
        "  print(classes[0])\n",
        "  if classes[0]>0.5:\n",
        "    print(fn + \" это собака\")\n",
        "  else:\n",
        "    print(fn + \" это кошка\")"
      ],
      "execution_count": 61,
      "outputs": [
        {
          "output_type": "display_data",
          "data": {
            "text/plain": [
              "<IPython.core.display.HTML object>"
            ],
            "text/html": [
              "\n",
              "     <input type=\"file\" id=\"files-46a89827-c56d-4200-9992-00f8d425f8a9\" name=\"files[]\" multiple disabled\n",
              "        style=\"border:none\" />\n",
              "     <output id=\"result-46a89827-c56d-4200-9992-00f8d425f8a9\">\n",
              "      Upload widget is only available when the cell has been executed in the\n",
              "      current browser session. Please rerun this cell to enable.\n",
              "      </output>\n",
              "      <script>// Copyright 2017 Google LLC\n",
              "//\n",
              "// Licensed under the Apache License, Version 2.0 (the \"License\");\n",
              "// you may not use this file except in compliance with the License.\n",
              "// You may obtain a copy of the License at\n",
              "//\n",
              "//      http://www.apache.org/licenses/LICENSE-2.0\n",
              "//\n",
              "// Unless required by applicable law or agreed to in writing, software\n",
              "// distributed under the License is distributed on an \"AS IS\" BASIS,\n",
              "// WITHOUT WARRANTIES OR CONDITIONS OF ANY KIND, either express or implied.\n",
              "// See the License for the specific language governing permissions and\n",
              "// limitations under the License.\n",
              "\n",
              "/**\n",
              " * @fileoverview Helpers for google.colab Python module.\n",
              " */\n",
              "(function(scope) {\n",
              "function span(text, styleAttributes = {}) {\n",
              "  const element = document.createElement('span');\n",
              "  element.textContent = text;\n",
              "  for (const key of Object.keys(styleAttributes)) {\n",
              "    element.style[key] = styleAttributes[key];\n",
              "  }\n",
              "  return element;\n",
              "}\n",
              "\n",
              "// Max number of bytes which will be uploaded at a time.\n",
              "const MAX_PAYLOAD_SIZE = 100 * 1024;\n",
              "\n",
              "function _uploadFiles(inputId, outputId) {\n",
              "  const steps = uploadFilesStep(inputId, outputId);\n",
              "  const outputElement = document.getElementById(outputId);\n",
              "  // Cache steps on the outputElement to make it available for the next call\n",
              "  // to uploadFilesContinue from Python.\n",
              "  outputElement.steps = steps;\n",
              "\n",
              "  return _uploadFilesContinue(outputId);\n",
              "}\n",
              "\n",
              "// This is roughly an async generator (not supported in the browser yet),\n",
              "// where there are multiple asynchronous steps and the Python side is going\n",
              "// to poll for completion of each step.\n",
              "// This uses a Promise to block the python side on completion of each step,\n",
              "// then passes the result of the previous step as the input to the next step.\n",
              "function _uploadFilesContinue(outputId) {\n",
              "  const outputElement = document.getElementById(outputId);\n",
              "  const steps = outputElement.steps;\n",
              "\n",
              "  const next = steps.next(outputElement.lastPromiseValue);\n",
              "  return Promise.resolve(next.value.promise).then((value) => {\n",
              "    // Cache the last promise value to make it available to the next\n",
              "    // step of the generator.\n",
              "    outputElement.lastPromiseValue = value;\n",
              "    return next.value.response;\n",
              "  });\n",
              "}\n",
              "\n",
              "/**\n",
              " * Generator function which is called between each async step of the upload\n",
              " * process.\n",
              " * @param {string} inputId Element ID of the input file picker element.\n",
              " * @param {string} outputId Element ID of the output display.\n",
              " * @return {!Iterable<!Object>} Iterable of next steps.\n",
              " */\n",
              "function* uploadFilesStep(inputId, outputId) {\n",
              "  const inputElement = document.getElementById(inputId);\n",
              "  inputElement.disabled = false;\n",
              "\n",
              "  const outputElement = document.getElementById(outputId);\n",
              "  outputElement.innerHTML = '';\n",
              "\n",
              "  const pickedPromise = new Promise((resolve) => {\n",
              "    inputElement.addEventListener('change', (e) => {\n",
              "      resolve(e.target.files);\n",
              "    });\n",
              "  });\n",
              "\n",
              "  const cancel = document.createElement('button');\n",
              "  inputElement.parentElement.appendChild(cancel);\n",
              "  cancel.textContent = 'Cancel upload';\n",
              "  const cancelPromise = new Promise((resolve) => {\n",
              "    cancel.onclick = () => {\n",
              "      resolve(null);\n",
              "    };\n",
              "  });\n",
              "\n",
              "  // Wait for the user to pick the files.\n",
              "  const files = yield {\n",
              "    promise: Promise.race([pickedPromise, cancelPromise]),\n",
              "    response: {\n",
              "      action: 'starting',\n",
              "    }\n",
              "  };\n",
              "\n",
              "  cancel.remove();\n",
              "\n",
              "  // Disable the input element since further picks are not allowed.\n",
              "  inputElement.disabled = true;\n",
              "\n",
              "  if (!files) {\n",
              "    return {\n",
              "      response: {\n",
              "        action: 'complete',\n",
              "      }\n",
              "    };\n",
              "  }\n",
              "\n",
              "  for (const file of files) {\n",
              "    const li = document.createElement('li');\n",
              "    li.append(span(file.name, {fontWeight: 'bold'}));\n",
              "    li.append(span(\n",
              "        `(${file.type || 'n/a'}) - ${file.size} bytes, ` +\n",
              "        `last modified: ${\n",
              "            file.lastModifiedDate ? file.lastModifiedDate.toLocaleDateString() :\n",
              "                                    'n/a'} - `));\n",
              "    const percent = span('0% done');\n",
              "    li.appendChild(percent);\n",
              "\n",
              "    outputElement.appendChild(li);\n",
              "\n",
              "    const fileDataPromise = new Promise((resolve) => {\n",
              "      const reader = new FileReader();\n",
              "      reader.onload = (e) => {\n",
              "        resolve(e.target.result);\n",
              "      };\n",
              "      reader.readAsArrayBuffer(file);\n",
              "    });\n",
              "    // Wait for the data to be ready.\n",
              "    let fileData = yield {\n",
              "      promise: fileDataPromise,\n",
              "      response: {\n",
              "        action: 'continue',\n",
              "      }\n",
              "    };\n",
              "\n",
              "    // Use a chunked sending to avoid message size limits. See b/62115660.\n",
              "    let position = 0;\n",
              "    do {\n",
              "      const length = Math.min(fileData.byteLength - position, MAX_PAYLOAD_SIZE);\n",
              "      const chunk = new Uint8Array(fileData, position, length);\n",
              "      position += length;\n",
              "\n",
              "      const base64 = btoa(String.fromCharCode.apply(null, chunk));\n",
              "      yield {\n",
              "        response: {\n",
              "          action: 'append',\n",
              "          file: file.name,\n",
              "          data: base64,\n",
              "        },\n",
              "      };\n",
              "\n",
              "      let percentDone = fileData.byteLength === 0 ?\n",
              "          100 :\n",
              "          Math.round((position / fileData.byteLength) * 100);\n",
              "      percent.textContent = `${percentDone}% done`;\n",
              "\n",
              "    } while (position < fileData.byteLength);\n",
              "  }\n",
              "\n",
              "  // All done.\n",
              "  yield {\n",
              "    response: {\n",
              "      action: 'complete',\n",
              "    }\n",
              "  };\n",
              "}\n",
              "\n",
              "scope.google = scope.google || {};\n",
              "scope.google.colab = scope.google.colab || {};\n",
              "scope.google.colab._files = {\n",
              "  _uploadFiles,\n",
              "  _uploadFilesContinue,\n",
              "};\n",
              "})(self);\n",
              "</script> "
            ]
          },
          "metadata": {}
        },
        {
          "output_type": "stream",
          "name": "stdout",
          "text": [
            "Saving dog2.jpg to dog2.jpg\n",
            "Saving dog1.jpg to dog1.jpg\n",
            "Saving cat.jpeg to cat.jpeg\n",
            "1/1 [==============================] - 0s 20ms/step\n",
            "[1.]\n",
            "dog2.jpg это собака\n",
            "1/1 [==============================] - 0s 20ms/step\n",
            "[1.]\n",
            "dog1.jpg это собака\n",
            "1/1 [==============================] - 0s 22ms/step\n",
            "[0.]\n",
            "cat.jpeg это кошка\n"
          ]
        }
      ]
    }
  ]
}