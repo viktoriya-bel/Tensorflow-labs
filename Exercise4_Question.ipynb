{
  "nbformat": 4,
  "nbformat_minor": 0,
  "metadata": {
    "coursera": {
      "course_slug": "introduction-tensorflow",
      "graded_item_id": "1kAlw",
      "launcher_item_id": "PNLYD"
    },
    "kernelspec": {
      "display_name": "Python 3",
      "language": "python",
      "name": "python3"
    },
    "language_info": {
      "codemirror_mode": {
        "name": "ipython",
        "version": 3
      },
      "file_extension": ".py",
      "mimetype": "text/x-python",
      "name": "python",
      "nbconvert_exporter": "python",
      "pygments_lexer": "ipython3",
      "version": "3.6.8"
    },
    "colab": {
      "provenance": [],
      "include_colab_link": true
    }
  },
  "cells": [
    {
      "cell_type": "markdown",
      "metadata": {
        "id": "view-in-github",
        "colab_type": "text"
      },
      "source": [
        "<a href=\"https://colab.research.google.com/github/viktoriya-bel/Tensorflow-labs/blob/main/Exercise4_Question.ipynb\" target=\"_parent\"><img src=\"https://colab.research.google.com/assets/colab-badge.svg\" alt=\"Open In Colab\"/></a>"
      ]
    },
    {
      "cell_type": "markdown",
      "metadata": {
        "id": "UncprnB0ymAE"
      },
      "source": [
        "Ниже приведен код со ссылкой на набор данных «happy» или «sad», содержащий 80 изображений, 40 счастливых и 40 грустных.\n",
        "Создайте сверточную нейронную сеть, которая обучается со 100% точностью на этих изображениях, с отменой обучения при достижении точности обучения .999"
      ]
    },
    {
      "cell_type": "code",
      "metadata": {
        "id": "-ALIEF4A2tTr",
        "outputId": "37f71221-aead-42ef-fdd2-041dddd4d23a",
        "colab": {
          "base_uri": "https://localhost:8080/"
        }
      },
      "source": [
        "import tensorflow as tf\n",
        "import os\n",
        "import zipfile\n",
        "#\n",
        "!wget --no-check-certificate \"https://github.com/andrew-veriga/Tensorflow-labs/raw/master/happy-or-sad.zip\" \\\n",
        "   -O \"/tmp/happy-or-sad.zip\"\n"
      ],
      "execution_count": 1,
      "outputs": [
        {
          "output_type": "stream",
          "name": "stdout",
          "text": [
            "--2023-05-23 16:45:33--  https://github.com/andrew-veriga/Tensorflow-labs/raw/master/happy-or-sad.zip\n",
            "Resolving github.com (github.com)... 140.82.114.4\n",
            "Connecting to github.com (github.com)|140.82.114.4|:443... connected.\n",
            "HTTP request sent, awaiting response... 302 Found\n",
            "Location: https://raw.githubusercontent.com/andrew-veriga/Tensorflow-labs/master/happy-or-sad.zip [following]\n",
            "--2023-05-23 16:45:34--  https://raw.githubusercontent.com/andrew-veriga/Tensorflow-labs/master/happy-or-sad.zip\n",
            "Resolving raw.githubusercontent.com (raw.githubusercontent.com)... 185.199.108.133, 185.199.109.133, 185.199.110.133, ...\n",
            "Connecting to raw.githubusercontent.com (raw.githubusercontent.com)|185.199.108.133|:443... connected.\n",
            "HTTP request sent, awaiting response... 200 OK\n",
            "Length: 2670333 (2.5M) [application/zip]\n",
            "Saving to: ‘/tmp/happy-or-sad.zip’\n",
            "\n",
            "/tmp/happy-or-sad.z 100%[===================>]   2.55M  --.-KB/s    in 0.07s   \n",
            "\n",
            "2023-05-23 16:45:34 (34.8 MB/s) - ‘/tmp/happy-or-sad.zip’ saved [2670333/2670333]\n",
            "\n"
          ]
        }
      ]
    },
    {
      "cell_type": "code",
      "source": [
        "\n",
        "zip_ref = zipfile.ZipFile(\"/tmp/happy-or-sad.zip\", 'r')\n",
        "zip_ref.extractall(\"/tmp/h-or-s\")\n",
        "zip_ref.close()\n",
        "\n",
        "import os\n",
        "\n",
        "train_happy_dir = os.path.join('/tmp/h-or-s/happy')\n",
        "\n",
        "train_sad_dir = os.path.join('/tmp/h-or-s/sad')\n",
        "\n",
        "train_happy_names = os.listdir(train_happy_dir)\n",
        "print(train_happy_names[:10])\n",
        "\n",
        "train_sad_names = os.listdir(train_sad_dir)\n",
        "print(train_sad_names[:10])"
      ],
      "metadata": {
        "id": "sv4QjJ3MKOfn",
        "outputId": "0328dcb4-dea9-4d2f-953a-e7f03ae587b6",
        "colab": {
          "base_uri": "https://localhost:8080/"
        }
      },
      "execution_count": 2,
      "outputs": [
        {
          "output_type": "stream",
          "name": "stdout",
          "text": [
            "['happy2-16.png', 'happy1-09.png', 'happy2-15.png', 'happy1-12.png', 'happy1-06.png', 'happy2-00.png', 'happy2-02.png', 'happy1-04.png', 'happy1-07.png', 'happy2-14.png']\n",
            "['sad2-01.png', 'sad2-00.png', 'sad1-00.png', 'sad2-18.png', 'sad1-18.png', 'sad2-19.png', 'sad2-10.png', 'sad1-19.png', 'sad1-13.png', 'sad1-03.png']\n"
          ]
        }
      ]
    },
    {
      "cell_type": "code",
      "metadata": {
        "id": "11_S4Hd66Lqd",
        "outputId": "f672e64f-5efe-44db-df23-97d68ba85ec9",
        "colab": {
          "base_uri": "https://localhost:8080/"
        }
      },
      "source": [
        "import os\n",
        "\n",
        "train_happy_dir = os.path.join('/tmp/h-or-s/happy')\n",
        "\n",
        "train_sad_dir = os.path.join('/tmp/h-or-s/sad')\n",
        "\n",
        "train_happy_names = os.listdir(train_happy_dir)\n",
        "print(train_happy_names[:10])\n",
        "\n",
        "train_sad_names = os.listdir(train_sad_dir)\n",
        "print(train_sad_names[:10])"
      ],
      "execution_count": 3,
      "outputs": [
        {
          "output_type": "stream",
          "name": "stdout",
          "text": [
            "['happy2-16.png', 'happy1-09.png', 'happy2-15.png', 'happy1-12.png', 'happy1-06.png', 'happy2-00.png', 'happy2-02.png', 'happy1-04.png', 'happy1-07.png', 'happy2-14.png']\n",
            "['sad2-01.png', 'sad2-00.png', 'sad1-00.png', 'sad2-18.png', 'sad1-18.png', 'sad2-19.png', 'sad2-10.png', 'sad1-19.png', 'sad1-13.png', 'sad1-03.png']\n"
          ]
        }
      ]
    },
    {
      "cell_type": "code",
      "metadata": {
        "id": "5gZoRjft2tTw",
        "colab": {
          "base_uri": "https://localhost:8080/"
        },
        "outputId": "fb378300-889b-4218-ea6d-9708ca0b3fc1"
      },
      "source": [
        "\n",
        "DESIRED_ACCURACY = 0.999\n",
        "\n",
        "# Класс наследованный от основного класса tf.keras.callbacks.Callback\n",
        "class myCallback(tf.keras.callbacks.Callback):\n",
        "      # Вызывается в начале эпохи во время тренировки.\n",
        "      def on_epoch_end(self, epoch, logs={}):\n",
        "          if logs.get('accuracy') is not None and logs.get('accuracy') > DESIRED_ACCURACY: \n",
        "              print(\"\\nДостигнута точность 99.9%, обучение прерывается!\") \n",
        "              # Stop training once the above condition is met\n",
        "              self.model.stop_training = True\n",
        "\n",
        "callbacks = myCallback()\n",
        "\n",
        "# Этот блок кода должен задать и скомпилировать модель. Пожалуйста, имейте в виду, что размер изображений 150 X 150\n",
        "\n",
        "# Создаем модель, имеющую 7 слоев:\n",
        "# - convolutions и max pooling\n",
        "# - Flatten слой, должен принимать входные данные того же формата, что и изображения\n",
        "# - Dense слой с 512 нейронами и функцией активации ReLU\n",
        "# - Dense слой с 1 нейроном и функцией активации sigmoid\n",
        "model = tf.keras.models.Sequential([\n",
        "  tf.keras.layers.Conv2D(16, (3,3), activation='relu', input_shape=(150, 150, 3)),\n",
        "  tf.keras.layers.MaxPooling2D(2, 2),\n",
        "  tf.keras.layers.Conv2D(32, (3,3), activation='relu'),\n",
        "  tf.keras.layers.MaxPooling2D(2, 2),\n",
        "  tf.keras.layers.Conv2D(32, (3,3), activation='relu'),\n",
        "  tf.keras.layers.MaxPooling2D(2,2),\n",
        "  tf.keras.layers.Flatten(),\n",
        "  tf.keras.layers.Dense(512, activation=tf.nn.relu),\n",
        "  tf.keras.layers.Dense(1, activation=tf.nn.sigmoid)\n",
        "])\n",
        "\n",
        "from tensorflow.keras.optimizers import RMSprop\n",
        "\n",
        "model.compile(loss='binary_crossentropy',\n",
        "              optimizer=RMSprop(learning_rate=0.001), \n",
        "              metrics=['accuracy']\n",
        "    )\n",
        "    \n",
        "\n",
        "  # Этот блок кода должен создать экземпляр ImageDataGenerator с именем train_datagen\n",
        "  # и train_generator, вызовом train_datagen.flow_from_directory\n",
        "\n",
        "from tensorflow.keras.preprocessing.image import ImageDataGenerator\n",
        "\n",
        "train_datagen = ImageDataGenerator(rescale=1/255)\n",
        "\n",
        "# target_size  150 X 150.\n",
        "train_generator = train_datagen.flow_from_directory(\n",
        "        \"/tmp/h-or-s\",\n",
        "        target_size=(150,150),\n",
        "        batch_size=128,\n",
        "        class_mode = 'binary')\n",
        "\n",
        "#validation_datagen = ImageDataGenerator(rescale=1/255)\n",
        "#validation_generator = validation_datagen.flow_from_directory('/tmp/h-or-s', target_size=(150, 150),batch_size=32, class_mode='binary')\n",
        "\n",
        "# ожидаемая строка вывода: 'Found 80 images belonging to 2 classes'\n",
        "# model fitting\n",
        "history = model.fit(train_generator, steps_per_epoch = None, epochs = 24, verbose = 1, callbacks = [callbacks])\n",
        "print(history.epoch, history.history['accuracy'][-1])\n",
        "# ожидаемая строка вывода: \"Достигнута точность 99.9%, обучение прерывается!\"\n"
      ],
      "execution_count": 30,
      "outputs": [
        {
          "output_type": "stream",
          "name": "stdout",
          "text": [
            "Found 80 images belonging to 2 classes.\n",
            "Epoch 1/24\n",
            "1/1 [==============================] - 2s 2s/step - loss: 0.6861 - accuracy: 0.7375\n",
            "Epoch 2/24\n",
            "1/1 [==============================] - 1s 1s/step - loss: 1.4944 - accuracy: 0.5000\n",
            "Epoch 3/24\n",
            "1/1 [==============================] - 1s 1s/step - loss: 4.8993 - accuracy: 0.5000\n",
            "Epoch 4/24\n",
            "1/1 [==============================] - 1s 1s/step - loss: 0.6928 - accuracy: 0.5000\n",
            "Epoch 5/24\n",
            "1/1 [==============================] - 1s 1s/step - loss: 0.7251 - accuracy: 0.5000\n",
            "Epoch 6/24\n",
            "1/1 [==============================] - 1s 1s/step - loss: 0.6980 - accuracy: 0.5000\n",
            "Epoch 7/24\n",
            "1/1 [==============================] - ETA: 0s - loss: 0.6535 - accuracy: 1.0000\n",
            "Достигнута точность 99.9%, обучение прерывается!\n",
            "1/1 [==============================] - 1s 1s/step - loss: 0.6535 - accuracy: 1.0000\n",
            "[0, 1, 2, 3, 4, 5, 6] 1.0\n"
          ]
        }
      ]
    },
    {
      "cell_type": "code",
      "metadata": {
        "id": "XtZC9HlK2tTz"
      },
      "source": [],
      "execution_count": null,
      "outputs": []
    }
  ]
}