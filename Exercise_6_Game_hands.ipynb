{
  "nbformat": 4,
  "nbformat_minor": 0,
  "metadata": {
    "colab": {
      "provenance": [],
      "include_colab_link": true
    },
    "kernelspec": {
      "name": "python3",
      "display_name": "Python 3"
    },
    "accelerator": "GPU"
  },
  "cells": [
    {
      "cell_type": "markdown",
      "metadata": {
        "id": "view-in-github",
        "colab_type": "text"
      },
      "source": [
        "<a href=\"https://colab.research.google.com/github/viktoriya-bel/Tensorflow-labs/blob/main/Exercise_6_Game_hands.ipynb\" target=\"_parent\"><img src=\"https://colab.research.google.com/assets/colab-badge.svg\" alt=\"Open In Colab\"/></a>"
      ]
    },
    {
      "cell_type": "markdown",
      "metadata": {
        "id": "GFYcyMy_y5Mw"
      },
      "source": [
        "#Обучение  CNN на полном наборе данных \"Камень, ножницы, бумага\""
      ]
    },
    {
      "cell_type": "code",
      "metadata": {
        "id": "dn-6c02VmqiN"
      },
      "source": [
        "# В этом блоке кода находятся все необходимые импорты\n",
        "import os\n",
        "import zipfile\n",
        "import random\n",
        "import tensorflow as tf\n",
        "from tensorflow.keras.optimizers import RMSprop\n",
        "from tensorflow.keras.preprocessing.image import ImageDataGenerator\n",
        "from shutil import copyfile"
      ],
      "execution_count": 2,
      "outputs": []
    },
    {
      "cell_type": "markdown",
      "metadata": {
        "id": "vz_Nu7GI0TWY"
      },
      "source": [
        "Сначала надо получить данные."
      ]
    },
    {
      "cell_type": "code",
      "metadata": {
        "id": "3sd9dQWa23aj",
        "colab": {
          "base_uri": "https://localhost:8080/"
        },
        "outputId": "f0bfc19e-67f6-4d1a-9062-6e6d0cf026a8"
      },
      "source": [
        "# Этот блок кода загружает тестовый и тренировочный набор данных и сохраняет его как\n",
        "# zip. Затем он распаковывает его в /tmp.\n",
        "\n",
        "!wget --no-check-certificate \\\n",
        "    \"https://storage.googleapis.com/download.tensorflow.org/data/rps.zip\" \\\n",
        "    -O \"/tmp/rps.zip\"\n",
        "\n",
        "!wget --no-check-certificate \\\n",
        "    \"https://storage.googleapis.com/download.tensorflow.org/data/rps-test-set.zip\" \\\n",
        "    -O \"/tmp/rps-test-set.zip\"\n",
        "\n",
        "local_zip = '/tmp/rps.zip'\n",
        "zip_ref = zipfile.ZipFile(local_zip, 'r')\n",
        "zip_ref.extractall('/tmp')\n",
        "zip_ref.close()\n",
        "\n",
        "local_zip = '/tmp/rps-test-set.zip'\n",
        "zip_ref = zipfile.ZipFile(local_zip, 'r')\n",
        "zip_ref.extractall('/tmp')\n",
        "zip_ref.close()\n"
      ],
      "execution_count": 5,
      "outputs": [
        {
          "output_type": "stream",
          "name": "stdout",
          "text": [
            "--2023-05-29 07:59:52--  https://storage.googleapis.com/download.tensorflow.org/data/rps.zip\n",
            "Resolving storage.googleapis.com (storage.googleapis.com)... 142.251.2.128, 142.250.141.128, 142.250.101.128, ...\n",
            "Connecting to storage.googleapis.com (storage.googleapis.com)|142.251.2.128|:443... connected.\n",
            "HTTP request sent, awaiting response... 200 OK\n",
            "Length: 200682221 (191M) [application/zip]\n",
            "Saving to: ‘/tmp/rps.zip’\n",
            "\n",
            "/tmp/rps.zip        100%[===================>] 191.38M   131MB/s    in 1.5s    \n",
            "\n",
            "2023-05-29 07:59:53 (131 MB/s) - ‘/tmp/rps.zip’ saved [200682221/200682221]\n",
            "\n",
            "--2023-05-29 07:59:53--  https://storage.googleapis.com/download.tensorflow.org/data/rps-test-set.zip\n",
            "Resolving storage.googleapis.com (storage.googleapis.com)... 142.251.2.128, 142.250.141.128, 142.250.101.128, ...\n",
            "Connecting to storage.googleapis.com (storage.googleapis.com)|142.251.2.128|:443... connected.\n",
            "HTTP request sent, awaiting response... 200 OK\n",
            "Length: 29516758 (28M) [application/zip]\n",
            "Saving to: ‘/tmp/rps-test-set.zip’\n",
            "\n",
            "/tmp/rps-test-set.z 100%[===================>]  28.15M   135MB/s    in 0.2s    \n",
            "\n",
            "2023-05-29 07:59:54 (135 MB/s) - ‘/tmp/rps-test-set.zip’ saved [29516758/29516758]\n",
            "\n"
          ]
        }
      ]
    },
    {
      "cell_type": "markdown",
      "metadata": {
        "id": "WEKqPrCZ39I0"
      },
      "source": [
        "Проверьте, все ли получилось"
      ]
    },
    {
      "cell_type": "code",
      "metadata": {
        "id": "gi3yD62a6X3S",
        "colab": {
          "base_uri": "https://localhost:8080/"
        },
        "outputId": "f5d2d764-7ab1-4297-857b-05e537bada70"
      },
      "source": [
        "print(len(os.listdir('/tmp/rps/scissors')))\n",
        "print(len(os.listdir('/tmp/rps/paper')))\n",
        "print(len(os.listdir('/tmp/rps/rock')))\n",
        "print(len(os.listdir('/tmp/rps-test-set/scissors')))\n",
        "print(len(os.listdir('/tmp/rps-test-set/paper')))\n",
        "print(len(os.listdir('/tmp/rps-test-set/rock')))\n",
        "\n",
        "# Вывод должен быть примерно такой:\n",
        "# 840\n",
        "# 840\n",
        "# 840\n",
        "# 124\n",
        "# 124\n",
        "# 124"
      ],
      "execution_count": 8,
      "outputs": [
        {
          "output_type": "stream",
          "name": "stdout",
          "text": [
            "840\n",
            "840\n",
            "840\n",
            "124\n",
            "124\n",
            "124\n"
          ]
        }
      ]
    },
    {
      "cell_type": "markdown",
      "metadata": {
        "id": "eeNRDPDm9QHx"
      },
      "source": [
        "###Определите модель KERAS для классификации кошек и собак. \n",
        "\n",
        "Используйте как минимум три сверточных слоя"
      ]
    },
    {
      "cell_type": "code",
      "metadata": {
        "id": "-BQrav4anTmj"
      },
      "source": [
        "# USE AT LEAST 3 CONVOLUTION LAYERS\n",
        "model = tf.keras.models.Sequential([\n",
        "  tf.keras.layers.Conv2D(16, (3,3), activation='relu', input_shape=(300, 300, 3)),\n",
        "  tf.keras.layers.MaxPooling2D(2, 2),\n",
        "  tf.keras.layers.Conv2D(32, (3,3), activation='relu'),\n",
        "  tf.keras.layers.MaxPooling2D(2, 2),\n",
        "  tf.keras.layers.Conv2D(64, (3,3), activation='relu'),\n",
        "  tf.keras.layers.MaxPooling2D(2,2),\n",
        "  tf.keras.layers.Flatten(),\n",
        "  tf.keras.layers.Dense(512, activation=tf.nn.relu),\n",
        "  tf.keras.layers.Dense(3, activation=tf.nn.softmax)\n",
        "])\n",
        "\n",
        "\n",
        "model.compile(optimizer=RMSprop(learning_rate=0.001), loss='categorical_crossentropy', metrics=['acc'])"
      ],
      "execution_count": 12,
      "outputs": []
    },
    {
      "cell_type": "markdown",
      "metadata": {
        "id": "xaZQ2b-r9hbQ"
      },
      "source": [
        "###Добавляем слой предварительной подготовки данных обучения и валидации. \n",
        "\n",
        "Используйте Data Generator, как вы делали это раньше."
      ]
    },
    {
      "cell_type": "code",
      "metadata": {
        "id": "mlNjoJ5D61N6",
        "colab": {
          "base_uri": "https://localhost:8080/"
        },
        "outputId": "2e723dfb-d98c-4ee4-d82c-46e680af29de"
      },
      "source": [
        "TRAINING_DIR = \"/tmp/rps/\"\n",
        "train_datagen = ImageDataGenerator(rescale=1/255)\n",
        "train_generator = train_datagen.flow_from_directory(\n",
        "    TRAINING_DIR, \n",
        "    target_size=(300,300),\n",
        "    batch_size=128,\n",
        "    class_mode = 'categorical')\n",
        "\n",
        "VALIDATION_DIR = \"/tmp/rps-test-set/\"\n",
        "validation_datagen = ImageDataGenerator(rescale=1.0/255.)\n",
        "validation_generator = validation_datagen.flow_from_directory(\n",
        "    VALIDATION_DIR,\n",
        "    target_size=(300,300),\n",
        "    batch_size=128,\n",
        "    class_mode = 'categorical')\n",
        "\n",
        "\n",
        "\n",
        "# Ожидаемый вывод\n",
        "# Found 2520 images belonging to 3 classes.\n",
        "# Found 372 images belonging to 3 classes."
      ],
      "execution_count": 13,
      "outputs": [
        {
          "output_type": "stream",
          "name": "stdout",
          "text": [
            "Found 2520 images belonging to 3 classes.\n",
            "Found 372 images belonging to 3 classes.\n"
          ]
        }
      ]
    },
    {
      "cell_type": "markdown",
      "metadata": {
        "id": "PrUsxp0g98iy"
      },
      "source": [
        "Запускаем обучение модели.\n",
        "\n",
        "*Обратите внимание: при загрузке изображений вы можете получить предупреждения об отсутствии или повреждении данных EXIF. Не беспокойтесь об этом - в изображениях отсутствуют некоторые тэги, это не визуальные данные, которые бы повлияли на тренировку.*"
      ]
    },
    {
      "cell_type": "code",
      "metadata": {
        "id": "KyS4n53w7DxC",
        "colab": {
          "base_uri": "https://localhost:8080/"
        },
        "outputId": "bb897165-1365-428b-e83c-5d1428cf8597"
      },
      "source": [
        "history = model.fit_generator(train_generator,\n",
        "                              epochs=25,\n",
        "                              verbose=1,\n",
        "                              validation_data=validation_generator)\n",
        "\n",
        "# Здесь ожидается, что после обучения модели точность будет более 95% как тренировочная, так и при валидации."
      ],
      "execution_count": 14,
      "outputs": [
        {
          "output_type": "stream",
          "name": "stderr",
          "text": [
            "<ipython-input-14-c29f7a4edcea>:1: UserWarning: `Model.fit_generator` is deprecated and will be removed in a future version. Please use `Model.fit`, which supports generators.\n",
            "  history = model.fit_generator(train_generator,\n"
          ]
        },
        {
          "output_type": "stream",
          "name": "stdout",
          "text": [
            "Epoch 1/25\n",
            "20/20 [==============================] - 270s 13s/step - loss: 3.6211 - acc: 0.4246 - val_loss: 1.0366 - val_acc: 0.3952\n",
            "Epoch 2/25\n",
            "20/20 [==============================] - 276s 14s/step - loss: 0.6572 - acc: 0.7544 - val_loss: 1.0573 - val_acc: 0.5538\n",
            "Epoch 3/25\n",
            "20/20 [==============================] - 274s 14s/step - loss: 0.3637 - acc: 0.8778 - val_loss: 0.6560 - val_acc: 0.7742\n",
            "Epoch 4/25\n",
            "20/20 [==============================] - 276s 14s/step - loss: 0.3556 - acc: 0.9075 - val_loss: 0.6470 - val_acc: 0.7823\n",
            "Epoch 5/25\n",
            "20/20 [==============================] - 275s 14s/step - loss: 0.1343 - acc: 0.9607 - val_loss: 0.6799 - val_acc: 0.7124\n",
            "Epoch 6/25\n",
            "20/20 [==============================] - 276s 14s/step - loss: 0.0315 - acc: 0.9944 - val_loss: 0.5902 - val_acc: 0.7957\n",
            "Epoch 7/25\n",
            "20/20 [==============================] - 285s 14s/step - loss: 0.1009 - acc: 0.9651 - val_loss: 0.7098 - val_acc: 0.7204\n",
            "Epoch 8/25\n",
            "20/20 [==============================] - 280s 14s/step - loss: 0.0141 - acc: 0.9980 - val_loss: 0.7241 - val_acc: 0.7876\n",
            "Epoch 9/25\n",
            "20/20 [==============================] - 279s 14s/step - loss: 0.0025 - acc: 1.0000 - val_loss: 0.8246 - val_acc: 0.7554\n",
            "Epoch 10/25\n",
            "20/20 [==============================] - 279s 14s/step - loss: 6.9945e-04 - acc: 1.0000 - val_loss: 0.8825 - val_acc: 0.7823\n",
            "Epoch 11/25\n",
            "20/20 [==============================] - 277s 14s/step - loss: 0.4808 - acc: 0.9444 - val_loss: 0.7729 - val_acc: 0.7204\n",
            "Epoch 12/25\n",
            "20/20 [==============================] - 278s 14s/step - loss: 0.0246 - acc: 0.9944 - val_loss: 0.8641 - val_acc: 0.7527\n",
            "Epoch 13/25\n",
            "20/20 [==============================] - 269s 13s/step - loss: 0.0050 - acc: 0.9988 - val_loss: 1.1250 - val_acc: 0.7312\n",
            "Epoch 14/25\n",
            "20/20 [==============================] - 277s 13s/step - loss: 0.0019 - acc: 0.9996 - val_loss: 1.3238 - val_acc: 0.6962\n",
            "Epoch 15/25\n",
            "20/20 [==============================] - 270s 13s/step - loss: 0.2868 - acc: 0.9516 - val_loss: 0.9483 - val_acc: 0.7392\n",
            "Epoch 16/25\n",
            "20/20 [==============================] - 281s 14s/step - loss: 0.0053 - acc: 0.9996 - val_loss: 1.1646 - val_acc: 0.7124\n",
            "Epoch 17/25\n",
            "20/20 [==============================] - 271s 14s/step - loss: 9.8368e-04 - acc: 1.0000 - val_loss: 1.3536 - val_acc: 0.7016\n",
            "Epoch 18/25\n",
            "20/20 [==============================] - 279s 14s/step - loss: 3.5921e-04 - acc: 1.0000 - val_loss: 1.3300 - val_acc: 0.7124\n",
            "Epoch 19/25\n",
            "20/20 [==============================] - 276s 14s/step - loss: 0.6397 - acc: 0.9433 - val_loss: 1.0092 - val_acc: 0.7177\n",
            "Epoch 20/25\n",
            "20/20 [==============================] - 279s 14s/step - loss: 0.0075 - acc: 0.9996 - val_loss: 1.0799 - val_acc: 0.7339\n",
            "Epoch 21/25\n",
            "20/20 [==============================] - 280s 14s/step - loss: 0.0014 - acc: 1.0000 - val_loss: 1.3556 - val_acc: 0.7285\n",
            "Epoch 22/25\n",
            "20/20 [==============================] - 279s 14s/step - loss: 3.9685e-04 - acc: 1.0000 - val_loss: 1.4369 - val_acc: 0.7231\n",
            "Epoch 23/25\n",
            "20/20 [==============================] - 270s 14s/step - loss: 1.5130e-04 - acc: 1.0000 - val_loss: 1.5671 - val_acc: 0.7043\n",
            "Epoch 24/25\n",
            "20/20 [==============================] - 279s 14s/step - loss: 6.1715e-05 - acc: 1.0000 - val_loss: 1.6288 - val_acc: 0.7204\n",
            "Epoch 25/25\n",
            "20/20 [==============================] - 280s 14s/step - loss: 4.7932e-05 - acc: 1.0000 - val_loss: 1.6415 - val_acc: 0.7312\n"
          ]
        }
      ]
    },
    {
      "cell_type": "markdown",
      "metadata": {
        "id": "HE6EFqSp-ZfG"
      },
      "source": [
        "Смотрим графики процесса тренировки"
      ]
    },
    {
      "cell_type": "code",
      "metadata": {
        "id": "MWZrJN4-65RC",
        "colab": {
          "base_uri": "https://localhost:8080/",
          "height": 904
        },
        "outputId": "3ae7a987-a80b-48bb-d0d8-c575167c281d"
      },
      "source": [
        "\n",
        "%matplotlib inline\n",
        "\n",
        "import matplotlib.image  as mpimg\n",
        "import matplotlib.pyplot as plt\n",
        "\n",
        "#-----------------------------------------------------------\n",
        "# Получить список результатов на тренировочных и тестовых данных\n",
        "# наборов для каждой эпохи обучения\n",
        "#-----------------------------------------------------------\n",
        "acc=history.history['acc']\n",
        "val_acc=history.history['val_acc']\n",
        "loss=history.history['loss']\n",
        "val_loss=history.history['val_loss']\n",
        "\n",
        "epochs=range(len(acc)) # количество эпох\n",
        "\n",
        "#------------------------------------------------\n",
        "# Рисуем точность обучения и проверки по эпохам\n",
        "#------------------------------------------------\n",
        "plt.plot(epochs, acc, 'r', \"Training Accuracy\")\n",
        "plt.plot(epochs, val_acc, 'b', \"Validation Accuracy\")\n",
        "plt.title('Training and validation accuracy')\n",
        "plt.figure()\n",
        "\n",
        "#------------------------------------------------\n",
        "# Рисуем потери обучения и проверки по эпохам\n",
        "#------------------------------------------------\n",
        "plt.plot(epochs, loss, 'r', \"Training Loss\")\n",
        "plt.plot(epochs, val_loss, 'b', \"Validation Loss\")\n",
        "\n",
        "\n",
        "plt.title('Training and validation loss')\n",
        "\n",
        "# Желаемый вывод: графики с показателями обучения и валидации"
      ],
      "execution_count": 15,
      "outputs": [
        {
          "output_type": "execute_result",
          "data": {
            "text/plain": [
              "Text(0.5, 1.0, 'Training and validation loss')"
            ]
          },
          "metadata": {},
          "execution_count": 15
        },
        {
          "output_type": "display_data",
          "data": {
            "text/plain": [
              "<Figure size 640x480 with 1 Axes>"
            ],
            "image/png": "[encoded data removed]"
          },
          "metadata": {}
        },
        {
          "output_type": "display_data",
          "data": {
            "text/plain": [
              "<Figure size 640x480 with 1 Axes>"
            ],
            "image/png": "[encoded data removed]"
          },
          "metadata": {}
        }
      ]
    }
  ]
}